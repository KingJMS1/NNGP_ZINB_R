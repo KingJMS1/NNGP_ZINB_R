{
 "cells": [
  {
   "cell_type": "code",
   "execution_count": 8,
   "metadata": {},
   "outputs": [],
   "source": [
    "import numpy as np\n",
    "import pandas as pd"
   ]
  },
  {
   "cell_type": "code",
   "execution_count": 2,
   "metadata": {},
   "outputs": [],
   "source": [
    "water = np.load(\"water.npy\")"
   ]
  },
  {
   "cell_type": "code",
   "execution_count": 4,
   "metadata": {},
   "outputs": [],
   "source": [
    "locs = np.load(\"locs.npy\")\n",
    "time = np.load(\"time.npy\")"
   ]
  },
  {
   "cell_type": "code",
   "execution_count": 10,
   "metadata": {},
   "outputs": [],
   "source": [
    "csv = pd.read_csv(\"Ian Events.csv\")"
   ]
  },
  {
   "cell_type": "code",
   "execution_count": 17,
   "metadata": {},
   "outputs": [],
   "source": [
    "startEndTimes = csv[[\"BEGIN_DATE_TIME\", \"END_DATE_TIME\"]].astype(\"datetime64[s]\")"
   ]
  },
  {
   "cell_type": "code",
   "execution_count": 46,
   "metadata": {},
   "outputs": [],
   "source": [
    "filters = np.apply_along_axis(lambda x: (x[0] < time) & (time < x[1]), 1, startEndTimes.to_numpy())"
   ]
  },
  {
   "cell_type": "code",
   "execution_count": null,
   "metadata": {},
   "outputs": [],
   "source": [
    "nearest_loc = "
   ]
  },
  {
   "cell_type": "code",
   "execution_count": 54,
   "metadata": {},
   "outputs": [],
   "source": [
    "lon_lat = csv[[\"BEGIN_LAT\", \"BEGIN_LON\"]].to_numpy()"
   ]
  },
  {
   "cell_type": "code",
   "execution_count": 55,
   "metadata": {},
   "outputs": [
    {
     "data": {
      "text/plain": [
       "array([[ 29.1674, -81.523 ],\n",
       "       [ 28.5077, -81.4304],\n",
       "       [ 28.1684, -81.1433],\n",
       "       [ 28.6479, -81.4181],\n",
       "       [ 29.2695, -81.1075],\n",
       "       [ 28.5262, -81.369 ],\n",
       "       [ 28.5758, -80.874 ],\n",
       "       [ 28.2603, -81.3187],\n",
       "       [ 28.7786, -80.9149],\n",
       "       [ 27.6668, -80.4367],\n",
       "       [ 28.4627, -80.9253],\n",
       "       [ 27.2685, -80.3787],\n",
       "       [ 29.0222, -80.9896],\n",
       "       [ 28.43  , -81.32  ],\n",
       "       [ 27.146 , -80.2742],\n",
       "       [ 27.2101, -80.8416],\n",
       "       [ 28.6804, -81.4225],\n",
       "       [ 28.083 , -80.8669],\n",
       "       [ 29.0222, -80.9896],\n",
       "       [ 26.3705, -80.1054],\n",
       "       [ 25.9952, -80.2386],\n",
       "       [ 25.75  , -80.99  ],\n",
       "       [ 26.6449, -80.2878],\n",
       "       [ 26.827 , -81.0781],\n",
       "       [ 26.7338, -80.3355],\n",
       "       [ 25.8075, -80.3511],\n",
       "       [ 26.1123, -80.3297],\n",
       "       [ 25.8   , -80.72  ],\n",
       "       [ 26.26  , -80.61  ],\n",
       "       [ 26.0047, -80.192 ],\n",
       "       [ 26.5282, -80.068 ],\n",
       "       [ 25.7711, -80.3354],\n",
       "       [ 29.5975, -81.2714],\n",
       "       [ 29.87  , -81.34  ],\n",
       "       [ 29.39  , -81.37  ],\n",
       "       [ 29.61  , -81.22  ],\n",
       "       [ 29.4529, -81.1188],\n",
       "       [ 29.47  , -81.27  ]])"
      ]
     },
     "execution_count": 55,
     "metadata": {},
     "output_type": "execute_result"
    }
   ],
   "source": [
    "lon_lat"
   ]
  },
  {
   "cell_type": "code",
   "execution_count": 64,
   "metadata": {},
   "outputs": [
    {
     "data": {
      "text/plain": [
       "array([ 29.47994423, -81.12602997])"
      ]
     },
     "execution_count": 64,
     "metadata": {},
     "output_type": "execute_result"
    }
   ],
   "source": [
    "locs[np.argmin(np.sum(np.square(lon_lat[0] - locs), axis=1))]"
   ]
  },
  {
   "cell_type": "code",
   "execution_count": 61,
   "metadata": {},
   "outputs": [],
   "source": [
    "def nearest_locs(lon_lat):\n",
    "    toout = np.zeros(lon_lat.shape[0])\n",
    "    for i, loc in enumerate(lon_lat):\n",
    "        toout[i] = np.argmin(np.sum(np.square(loc - locs), axis=1))\n",
    "    return toout"
   ]
  },
  {
   "cell_type": "code",
   "execution_count": 73,
   "metadata": {},
   "outputs": [],
   "source": [
    "waterLocIdx = nearest_locs(lon_lat).astype(\"int64\")"
   ]
  },
  {
   "cell_type": "code",
   "execution_count": 47,
   "metadata": {},
   "outputs": [
    {
     "data": {
      "text/plain": [
       "(38, 734)"
      ]
     },
     "execution_count": 47,
     "metadata": {},
     "output_type": "execute_result"
    }
   ],
   "source": [
    "filters.shape"
   ]
  },
  {
   "cell_type": "code",
   "execution_count": 68,
   "metadata": {},
   "outputs": [
    {
     "data": {
      "text/plain": [
       "(734, 45)"
      ]
     },
     "execution_count": 68,
     "metadata": {},
     "output_type": "execute_result"
    }
   ],
   "source": [
    "water.shape"
   ]
  },
  {
   "cell_type": "code",
   "execution_count": 83,
   "metadata": {},
   "outputs": [],
   "source": [
    "extraCol = []\n",
    "for i, filter in enumerate(filters):\n",
    "    locnum = waterLocIdx[i]\n",
    "    if np.all(filter == False):\n",
    "        extraCol.append(0)\n",
    "        continue\n",
    "    maxWater = np.max(water[:, locnum][filter])\n",
    "    extraCol.append(maxWater)\n",
    "extraCol = np.array(extraCol)"
   ]
  },
  {
   "cell_type": "code",
   "execution_count": 84,
   "metadata": {},
   "outputs": [
    {
     "data": {
      "text/plain": [
       "array([ 2.53023783,  0.70897188,  0.80194635,  0.72373193,  2.43570136,\n",
       "        0.68516306,  0.72373193,  0.80194635,  0.68516306,  0.24129845,\n",
       "        0.72000907,  0.24129845,  0.24611221,  0.72373193,  0.23498256,\n",
       "        0.12013479,  0.24611221,  0.14543086, -0.20778963,  0.7499425 ,\n",
       "        0.74036589,  0.        ,  0.        ,  0.46031469,  0.75113349,\n",
       "        0.        ,  0.        ,  0.74036589,  0.        ,  0.74036589,\n",
       "        0.        ,  0.        ,  0.        ,  0.69888386,  0.        ,\n",
       "        0.        ,  0.        ,  0.        ])"
      ]
     },
     "execution_count": 84,
     "metadata": {},
     "output_type": "execute_result"
    }
   ],
   "source": [
    "extraCol"
   ]
  },
  {
   "cell_type": "code",
   "execution_count": 90,
   "metadata": {},
   "outputs": [],
   "source": [
    "csv = pd.read_csv(\"Ian Events.csv\")"
   ]
  },
  {
   "cell_type": "code",
   "execution_count": 91,
   "metadata": {},
   "outputs": [],
   "source": [
    "csv[\"MAX_WATER\"] = extraCol"
   ]
  },
  {
   "cell_type": "code",
   "execution_count": 92,
   "metadata": {},
   "outputs": [],
   "source": [
    "csv = csv.drop([\"Unnamed: 0\"], axis=1)\n",
    "csv.to_csv(\"Ian Events Water.csv\")"
   ]
  }
 ],
 "metadata": {
  "kernelspec": {
   "display_name": "Python 3",
   "language": "python",
   "name": "python3"
  },
  "language_info": {
   "codemirror_mode": {
    "name": "ipython",
    "version": 3
   },
   "file_extension": ".py",
   "mimetype": "text/x-python",
   "name": "python",
   "nbconvert_exporter": "python",
   "pygments_lexer": "ipython3",
   "version": "3.12.7"
  }
 },
 "nbformat": 4,
 "nbformat_minor": 2
}
